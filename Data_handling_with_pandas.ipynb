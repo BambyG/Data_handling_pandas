{
 "cells": [
  {
   "cell_type": "markdown",
   "metadata": {},
   "source": [
    "<h1><center>Data handling with Pandas</center></h1>"
   ]
  },
  {
   "cell_type": "markdown",
   "metadata": {},
   "source": [
    "<h2>Analysis 1</h2>"
   ]
  },
  {
   "cell_type": "markdown",
   "metadata": {},
   "source": [
    "** Tag sessions per users when the time difference between any consecutive pair of events is below 1 hour.**"
   ]
  },
  {
   "cell_type": "markdown",
   "metadata": {},
   "source": [
    "**1 - Import the necessary packages and libaries**"
   ]
  },
  {
   "cell_type": "code",
   "execution_count": 1,
   "metadata": {
    "collapsed": true
   },
   "outputs": [],
   "source": [
    "import pandas as pd #data structures and analysis tool\n",
    "import matplotlib.pyplot as plt #for visualisation \n",
    "import seaborn as sns #for visualisation \n",
    "%matplotlib inline "
   ]
  },
  {
   "cell_type": "markdown",
   "metadata": {},
   "source": [
    "**2 - Data import and cleaning **"
   ]
  },
  {
   "cell_type": "code",
   "execution_count": 2,
   "metadata": {
    "collapsed": true
   },
   "outputs": [],
   "source": [
    "# read and save the csv in a dataframe called 'learner'\n",
    "learner = pd.read_csv('learner_item_data.csv') "
   ]
  },
  {
   "cell_type": "code",
   "execution_count": 3,
   "metadata": {},
   "outputs": [
    {
     "data": {
      "text/html": [
       "<div>\n",
       "<style>\n",
       "    .dataframe thead tr:only-child th {\n",
       "        text-align: right;\n",
       "    }\n",
       "\n",
       "    .dataframe thead th {\n",
       "        text-align: left;\n",
       "    }\n",
       "\n",
       "    .dataframe tbody tr th {\n",
       "        vertical-align: top;\n",
       "    }\n",
       "</style>\n",
       "<table border=\"1\" class=\"dataframe\">\n",
       "  <thead>\n",
       "    <tr style=\"text-align: right;\">\n",
       "      <th></th>\n",
       "      <th>uuid</th>\n",
       "      <th>created_at</th>\n",
       "      <th>trainer_item_id</th>\n",
       "    </tr>\n",
       "  </thead>\n",
       "  <tbody>\n",
       "    <tr>\n",
       "      <th>0</th>\n",
       "      <td>6953977</td>\n",
       "      <td>2017-01-16 10:54:43.386</td>\n",
       "      <td>0</td>\n",
       "    </tr>\n",
       "    <tr>\n",
       "      <th>1</th>\n",
       "      <td>6953977</td>\n",
       "      <td>2017-01-16 10:56:25.717</td>\n",
       "      <td>1</td>\n",
       "    </tr>\n",
       "    <tr>\n",
       "      <th>2</th>\n",
       "      <td>6953977</td>\n",
       "      <td>2017-01-16 10:55:50.642</td>\n",
       "      <td>2</td>\n",
       "    </tr>\n",
       "    <tr>\n",
       "      <th>3</th>\n",
       "      <td>6953977</td>\n",
       "      <td>2017-01-16 10:54:19.796</td>\n",
       "      <td>3</td>\n",
       "    </tr>\n",
       "    <tr>\n",
       "      <th>4</th>\n",
       "      <td>6953977</td>\n",
       "      <td>2017-01-16 10:55:10.654</td>\n",
       "      <td>1</td>\n",
       "    </tr>\n",
       "  </tbody>\n",
       "</table>\n",
       "</div>"
      ],
      "text/plain": [
       "      uuid               created_at  trainer_item_id\n",
       "0  6953977  2017-01-16 10:54:43.386                0\n",
       "1  6953977  2017-01-16 10:56:25.717                1\n",
       "2  6953977  2017-01-16 10:55:50.642                2\n",
       "3  6953977  2017-01-16 10:54:19.796                3\n",
       "4  6953977  2017-01-16 10:55:10.654                1"
      ]
     },
     "execution_count": 3,
     "metadata": {},
     "output_type": "execute_result"
    }
   ],
   "source": [
    "#to display the 5 first rows of the csv file\n",
    "learner.head() "
   ]
  },
  {
   "cell_type": "code",
   "execution_count": 4,
   "metadata": {},
   "outputs": [
    {
     "name": "stdout",
     "output_type": "stream",
     "text": [
      "<class 'pandas.core.frame.DataFrame'>\n",
      "RangeIndex: 1144310 entries, 0 to 1144309\n",
      "Data columns (total 3 columns):\n",
      "uuid               1144310 non-null int64\n",
      "created_at         1144310 non-null object\n",
      "trainer_item_id    1144310 non-null int64\n",
      "dtypes: int64(2), object(1)\n",
      "memory usage: 26.2+ MB\n"
     ]
    }
   ],
   "source": [
    "learner.info()"
   ]
  },
  {
   "cell_type": "markdown",
   "metadata": {},
   "source": [
    "I am now checking if the dataset has any duplicates. Based on the information provided, I assume that a user cannot have replied to the same question multiple times, at the same exact day and time. We are noticing  **171** duplicate values that I decide to delete from the dataset."
   ]
  },
  {
   "cell_type": "code",
   "execution_count": 5,
   "metadata": {},
   "outputs": [
    {
     "name": "stdout",
     "output_type": "stream",
     "text": [
      "<class 'pandas.core.frame.DataFrame'>\n",
      "Int64Index: 1144139 entries, 0 to 1144309\n",
      "Data columns (total 3 columns):\n",
      "uuid               1144139 non-null int64\n",
      "created_at         1144139 non-null object\n",
      "trainer_item_id    1144139 non-null int64\n",
      "dtypes: int64(2), object(1)\n",
      "memory usage: 34.9+ MB\n"
     ]
    }
   ],
   "source": [
    "learner = learner.drop_duplicates()\n",
    "learner.info()"
   ]
  },
  {
   "cell_type": "markdown",
   "metadata": {},
   "source": [
    "**4 - Get the time difference between pair of events**"
   ]
  },
  {
   "cell_type": "markdown",
   "metadata": {},
   "source": [
    "The idea here is to create new columns to ease the table's manipulation and allow us to reach the final dataset format requested in the PDF. The first very important step is to sort the values by user id and time, in order to be certain that the times are consecutive ones and by user! \n",
    "\n",
    "Knowing that they are consecutive I am then able to calculate the time difference with the .shift() method allowing to subtract the time in row n with the one in row n-1."
   ]
  },
  {
   "cell_type": "code",
   "execution_count": 6,
   "metadata": {
    "collapsed": true
   },
   "outputs": [],
   "source": [
    "#sort the values by user id and time\n",
    "learner_sorted = learner.sort_values(['uuid','created_at']) "
   ]
  },
  {
   "cell_type": "code",
   "execution_count": 7,
   "metadata": {
    "collapsed": true
   },
   "outputs": [],
   "source": [
    "#change the data type of the \"created_at\" column from object to datetime for the .shift() method to work\n",
    "learner_sorted['created_at'] = pd.to_datetime(learner_sorted['created_at']) "
   ]
  },
  {
   "cell_type": "code",
   "execution_count": 8,
   "metadata": {
    "collapsed": true
   },
   "outputs": [],
   "source": [
    "#create a column with the previous id based on row n\n",
    "learner_sorted['previousid'] = learner_sorted['uuid'].shift()\n",
    "\n",
    "#apply the time difference in a new column named 'delta' only if the previous id is the same than the id at the row n (meaning: only if it's the same user!)\n",
    "learner_sorted = learner_sorted.assign(delta = (learner_sorted['created_at'] - learner_sorted['created_at'].shift()).where(learner_sorted['uuid'] == learner_sorted['previousid'], 0))\n",
    "\n",
    "#create a column 'deltatime' that saves the info collected in 'delta' but just with the hours, minutes and seconds\n",
    "learner_sorted['deltatime'] = pd.to_datetime(learner_sorted['delta']).dt.strftime('%H:%M:%S')"
   ]
  },
  {
   "cell_type": "code",
   "execution_count": 9,
   "metadata": {
    "collapsed": true
   },
   "outputs": [],
   "source": [
    "#create a column 'date' that saves the day when an event occured\n",
    "learner_sorted['date'] = learner_sorted['created_at'].dt.date\n",
    "\n",
    "#create a column 'deltadays' that saves the day difference from a event to another\n",
    "learner_sorted['deltadays'] = learner_sorted['delta'].dt.days"
   ]
  },
  {
   "cell_type": "code",
   "execution_count": 10,
   "metadata": {
    "collapsed": true
   },
   "outputs": [],
   "source": [
    "#create a column 'time' by first extracting it from 'created_at' then shape it in the desire format with the .dt.strftime() method\n",
    "learner_sorted['time'] = learner_sorted['created_at'].dt.time\n",
    "learner_sorted['time'] = pd.to_datetime(learner_sorted['created_at']).dt.strftime('%H:%M')"
   ]
  },
  {
   "cell_type": "markdown",
   "metadata": {},
   "source": [
    "Now that we have the time difference in 'deltatime' and the days' difference (if any) in 'deltadays', we now can uniform their units of time to minutes.\n",
    "\n",
    "This is important because the end goal is to create a new session per user if the time difference from a session to another is higher than 60 minutes!\n",
    "\n",
    "After converting the values, I am then creating a new column that holds the sum of 'deltatime' and 'deltadays'."
   ]
  },
  {
   "cell_type": "code",
   "execution_count": 11,
   "metadata": {
    "collapsed": true
   },
   "outputs": [],
   "source": [
    "\n",
    "def time_convert(x):#to convert the time '%H:%M:%S' into minutes\n",
    "    h,m,s = map(int,x.split(':'))\n",
    "    return (h*60+m+(s/60))\n",
    "\n",
    "def days_convert(x):#to convert the days into minutes\n",
    "    d = x\n",
    "    return d*1440\n",
    "\n",
    "learner_sorted['deltatimeminutes'] = learner_sorted['deltatime'].iloc[1:].apply(time_convert) #holds the delta time in minutes\n",
    "learner_sorted['deltadaysminutes'] = learner_sorted['deltadays'].iloc[1:].apply(days_convert) #holds the delta time in additional days"
   ]
  },
  {
   "cell_type": "code",
   "execution_count": 12,
   "metadata": {
    "collapsed": true
   },
   "outputs": [],
   "source": [
    "#sum up 'deltatimeminutes' and 'deltadaysminutes' to have the total minutes difference from an event to another\n",
    "learner_sorted['totaldeltaminutes'] = learner_sorted['deltatimeminutes']+learner_sorted['deltadaysminutes'] "
   ]
  },
  {
   "cell_type": "code",
   "execution_count": 13,
   "metadata": {},
   "outputs": [
    {
     "data": {
      "text/html": [
       "<div>\n",
       "<style>\n",
       "    .dataframe thead tr:only-child th {\n",
       "        text-align: right;\n",
       "    }\n",
       "\n",
       "    .dataframe thead th {\n",
       "        text-align: left;\n",
       "    }\n",
       "\n",
       "    .dataframe tbody tr th {\n",
       "        vertical-align: top;\n",
       "    }\n",
       "</style>\n",
       "<table border=\"1\" class=\"dataframe\">\n",
       "  <thead>\n",
       "    <tr style=\"text-align: right;\">\n",
       "      <th></th>\n",
       "      <th>uuid</th>\n",
       "      <th>created_at</th>\n",
       "      <th>trainer_item_id</th>\n",
       "      <th>previousid</th>\n",
       "      <th>delta</th>\n",
       "      <th>deltatime</th>\n",
       "      <th>date</th>\n",
       "      <th>deltadays</th>\n",
       "      <th>time</th>\n",
       "      <th>deltatimeminutes</th>\n",
       "      <th>deltadaysminutes</th>\n",
       "      <th>totaldeltaminutes</th>\n",
       "    </tr>\n",
       "  </thead>\n",
       "  <tbody>\n",
       "    <tr>\n",
       "      <th>689933</th>\n",
       "      <td>2990</td>\n",
       "      <td>2016-12-25 11:27:22.905</td>\n",
       "      <td>2</td>\n",
       "      <td>NaN</td>\n",
       "      <td>0 days 00:00:00</td>\n",
       "      <td>00:00:00</td>\n",
       "      <td>2016-12-25</td>\n",
       "      <td>0</td>\n",
       "      <td>11:27</td>\n",
       "      <td>NaN</td>\n",
       "      <td>NaN</td>\n",
       "      <td>NaN</td>\n",
       "    </tr>\n",
       "    <tr>\n",
       "      <th>689927</th>\n",
       "      <td>2990</td>\n",
       "      <td>2016-12-25 11:27:28.985</td>\n",
       "      <td>0</td>\n",
       "      <td>2990.0</td>\n",
       "      <td>0 days 00:00:06.080000</td>\n",
       "      <td>00:00:06</td>\n",
       "      <td>2016-12-25</td>\n",
       "      <td>0</td>\n",
       "      <td>11:27</td>\n",
       "      <td>0.100000</td>\n",
       "      <td>0.0</td>\n",
       "      <td>0.100000</td>\n",
       "    </tr>\n",
       "    <tr>\n",
       "      <th>689931</th>\n",
       "      <td>2990</td>\n",
       "      <td>2016-12-25 11:27:33.603</td>\n",
       "      <td>3</td>\n",
       "      <td>2990.0</td>\n",
       "      <td>0 days 00:00:04.618000</td>\n",
       "      <td>00:00:04</td>\n",
       "      <td>2016-12-25</td>\n",
       "      <td>0</td>\n",
       "      <td>11:27</td>\n",
       "      <td>0.066667</td>\n",
       "      <td>0.0</td>\n",
       "      <td>0.066667</td>\n",
       "    </tr>\n",
       "    <tr>\n",
       "      <th>689929</th>\n",
       "      <td>2990</td>\n",
       "      <td>2016-12-25 11:27:38.010</td>\n",
       "      <td>1</td>\n",
       "      <td>2990.0</td>\n",
       "      <td>0 days 00:00:04.407000</td>\n",
       "      <td>00:00:04</td>\n",
       "      <td>2016-12-25</td>\n",
       "      <td>0</td>\n",
       "      <td>11:27</td>\n",
       "      <td>0.066667</td>\n",
       "      <td>0.0</td>\n",
       "      <td>0.066667</td>\n",
       "    </tr>\n",
       "    <tr>\n",
       "      <th>689544</th>\n",
       "      <td>2990</td>\n",
       "      <td>2016-12-28 09:40:57.271</td>\n",
       "      <td>604</td>\n",
       "      <td>2990.0</td>\n",
       "      <td>2 days 22:13:19.261000</td>\n",
       "      <td>22:13:19</td>\n",
       "      <td>2016-12-28</td>\n",
       "      <td>2</td>\n",
       "      <td>09:40</td>\n",
       "      <td>1333.316667</td>\n",
       "      <td>2880.0</td>\n",
       "      <td>4213.316667</td>\n",
       "    </tr>\n",
       "  </tbody>\n",
       "</table>\n",
       "</div>"
      ],
      "text/plain": [
       "        uuid              created_at  trainer_item_id  previousid  \\\n",
       "689933  2990 2016-12-25 11:27:22.905                2         NaN   \n",
       "689927  2990 2016-12-25 11:27:28.985                0      2990.0   \n",
       "689931  2990 2016-12-25 11:27:33.603                3      2990.0   \n",
       "689929  2990 2016-12-25 11:27:38.010                1      2990.0   \n",
       "689544  2990 2016-12-28 09:40:57.271              604      2990.0   \n",
       "\n",
       "                        delta deltatime        date  deltadays   time  \\\n",
       "689933        0 days 00:00:00  00:00:00  2016-12-25          0  11:27   \n",
       "689927 0 days 00:00:06.080000  00:00:06  2016-12-25          0  11:27   \n",
       "689931 0 days 00:00:04.618000  00:00:04  2016-12-25          0  11:27   \n",
       "689929 0 days 00:00:04.407000  00:00:04  2016-12-25          0  11:27   \n",
       "689544 2 days 22:13:19.261000  22:13:19  2016-12-28          2  09:40   \n",
       "\n",
       "        deltatimeminutes  deltadaysminutes  totaldeltaminutes  \n",
       "689933               NaN               NaN                NaN  \n",
       "689927          0.100000               0.0           0.100000  \n",
       "689931          0.066667               0.0           0.066667  \n",
       "689929          0.066667               0.0           0.066667  \n",
       "689544       1333.316667            2880.0        4213.316667  "
      ]
     },
     "execution_count": 13,
     "metadata": {},
     "output_type": "execute_result"
    }
   ],
   "source": [
    "#check the first rows of the new 'learner_sorted' dataframe\n",
    "learner_sorted.head() "
   ]
  },
  {
   "cell_type": "markdown",
   "metadata": {},
   "source": [
    "Here is the data frame at this stage, for example here we know that the user 2990 created a new session on the 26th of December 2016 because the time difference with the previous event equals 4213.316667 minutes which is higher than 60 minutes! The next step is to write some code to tag those sessions for us!"
   ]
  },
  {
   "cell_type": "markdown",
   "metadata": {},
   "source": [
    "**5 - Encode the sessions of each user**"
   ]
  },
  {
   "cell_type": "markdown",
   "metadata": {},
   "source": [
    "To tag the sessions I am using the 'previousid' variable to be able to distinguish if we are tagging a new user or not. \n",
    "This is important because I am using here the GroupBy.cumcount() method that counts each item in each group in our case starting from 1.\n",
    "\n",
    "But there are conditions that need to be met for the count to start from 1 again:\n",
    "- the minutes' difference need to be higher than 60, or \n",
    "- the id from row n-1 is different from the one from n (meaning that we are dealing with different users)\n",
    "\n",
    "The second point is to start the count when we have a change of customer id."
   ]
  },
  {
   "cell_type": "code",
   "execution_count": 14,
   "metadata": {},
   "outputs": [
    {
     "data": {
      "text/html": [
       "<div>\n",
       "<style>\n",
       "    .dataframe thead tr:only-child th {\n",
       "        text-align: right;\n",
       "    }\n",
       "\n",
       "    .dataframe thead th {\n",
       "        text-align: left;\n",
       "    }\n",
       "\n",
       "    .dataframe tbody tr th {\n",
       "        vertical-align: top;\n",
       "    }\n",
       "</style>\n",
       "<table border=\"1\" class=\"dataframe\">\n",
       "  <thead>\n",
       "    <tr style=\"text-align: right;\">\n",
       "      <th></th>\n",
       "      <th>uuid</th>\n",
       "      <th>created_at</th>\n",
       "      <th>trainer_item_id</th>\n",
       "      <th>previousid</th>\n",
       "      <th>delta</th>\n",
       "      <th>deltatime</th>\n",
       "      <th>date</th>\n",
       "      <th>deltadays</th>\n",
       "      <th>time</th>\n",
       "      <th>deltatimeminutes</th>\n",
       "      <th>deltadaysminutes</th>\n",
       "      <th>totaldeltaminutes</th>\n",
       "      <th>sessions</th>\n",
       "    </tr>\n",
       "  </thead>\n",
       "  <tbody>\n",
       "    <tr>\n",
       "      <th>689933</th>\n",
       "      <td>2990</td>\n",
       "      <td>2016-12-25 11:27:22.905</td>\n",
       "      <td>2</td>\n",
       "      <td>NaN</td>\n",
       "      <td>0 days 00:00:00</td>\n",
       "      <td>00:00:00</td>\n",
       "      <td>2016-12-25</td>\n",
       "      <td>0</td>\n",
       "      <td>11:27</td>\n",
       "      <td>NaN</td>\n",
       "      <td>NaN</td>\n",
       "      <td>NaN</td>\n",
       "      <td>1.0</td>\n",
       "    </tr>\n",
       "    <tr>\n",
       "      <th>689927</th>\n",
       "      <td>2990</td>\n",
       "      <td>2016-12-25 11:27:28.985</td>\n",
       "      <td>0</td>\n",
       "      <td>2990.0</td>\n",
       "      <td>0 days 00:00:06.080000</td>\n",
       "      <td>00:00:06</td>\n",
       "      <td>2016-12-25</td>\n",
       "      <td>0</td>\n",
       "      <td>11:27</td>\n",
       "      <td>0.100000</td>\n",
       "      <td>0.0</td>\n",
       "      <td>0.100000</td>\n",
       "      <td>NaN</td>\n",
       "    </tr>\n",
       "    <tr>\n",
       "      <th>689931</th>\n",
       "      <td>2990</td>\n",
       "      <td>2016-12-25 11:27:33.603</td>\n",
       "      <td>3</td>\n",
       "      <td>2990.0</td>\n",
       "      <td>0 days 00:00:04.618000</td>\n",
       "      <td>00:00:04</td>\n",
       "      <td>2016-12-25</td>\n",
       "      <td>0</td>\n",
       "      <td>11:27</td>\n",
       "      <td>0.066667</td>\n",
       "      <td>0.0</td>\n",
       "      <td>0.066667</td>\n",
       "      <td>NaN</td>\n",
       "    </tr>\n",
       "    <tr>\n",
       "      <th>689929</th>\n",
       "      <td>2990</td>\n",
       "      <td>2016-12-25 11:27:38.010</td>\n",
       "      <td>1</td>\n",
       "      <td>2990.0</td>\n",
       "      <td>0 days 00:00:04.407000</td>\n",
       "      <td>00:00:04</td>\n",
       "      <td>2016-12-25</td>\n",
       "      <td>0</td>\n",
       "      <td>11:27</td>\n",
       "      <td>0.066667</td>\n",
       "      <td>0.0</td>\n",
       "      <td>0.066667</td>\n",
       "      <td>NaN</td>\n",
       "    </tr>\n",
       "    <tr>\n",
       "      <th>689544</th>\n",
       "      <td>2990</td>\n",
       "      <td>2016-12-28 09:40:57.271</td>\n",
       "      <td>604</td>\n",
       "      <td>2990.0</td>\n",
       "      <td>2 days 22:13:19.261000</td>\n",
       "      <td>22:13:19</td>\n",
       "      <td>2016-12-28</td>\n",
       "      <td>2</td>\n",
       "      <td>09:40</td>\n",
       "      <td>1333.316667</td>\n",
       "      <td>2880.0</td>\n",
       "      <td>4213.316667</td>\n",
       "      <td>2.0</td>\n",
       "    </tr>\n",
       "  </tbody>\n",
       "</table>\n",
       "</div>"
      ],
      "text/plain": [
       "        uuid              created_at  trainer_item_id  previousid  \\\n",
       "689933  2990 2016-12-25 11:27:22.905                2         NaN   \n",
       "689927  2990 2016-12-25 11:27:28.985                0      2990.0   \n",
       "689931  2990 2016-12-25 11:27:33.603                3      2990.0   \n",
       "689929  2990 2016-12-25 11:27:38.010                1      2990.0   \n",
       "689544  2990 2016-12-28 09:40:57.271              604      2990.0   \n",
       "\n",
       "                        delta deltatime        date  deltadays   time  \\\n",
       "689933        0 days 00:00:00  00:00:00  2016-12-25          0  11:27   \n",
       "689927 0 days 00:00:06.080000  00:00:06  2016-12-25          0  11:27   \n",
       "689931 0 days 00:00:04.618000  00:00:04  2016-12-25          0  11:27   \n",
       "689929 0 days 00:00:04.407000  00:00:04  2016-12-25          0  11:27   \n",
       "689544 2 days 22:13:19.261000  22:13:19  2016-12-28          2  09:40   \n",
       "\n",
       "        deltatimeminutes  deltadaysminutes  totaldeltaminutes  sessions  \n",
       "689933               NaN               NaN                NaN       1.0  \n",
       "689927          0.100000               0.0           0.100000       NaN  \n",
       "689931          0.066667               0.0           0.066667       NaN  \n",
       "689929          0.066667               0.0           0.066667       NaN  \n",
       "689544       1333.316667            2880.0        4213.316667       2.0  "
      ]
     },
     "execution_count": 14,
     "metadata": {},
     "output_type": "execute_result"
    }
   ],
   "source": [
    "#create the conditions for the counting to start\n",
    "cond = (learner_sorted['totaldeltaminutes'] > 60) | (learner_sorted['previousid'] != learner_sorted['uuid'])\n",
    "\n",
    "#creating a new column 'sessions' to save the results when the conditons above are applied\n",
    "learner_sorted['sessions'] = learner_sorted[cond].groupby(['uuid']).cumcount()+1\n",
    "\n",
    "#print the head of the dataframe\n",
    "learner_sorted.head()"
   ]
  },
  {
   "cell_type": "markdown",
   "metadata": {},
   "source": [
    "Now we can see that the count starts from 1 when we have a new id and when the time difference is higher than 60 minutes. However, when the following time difference is below 60 for the same user, no conditions are met so null values are returned. \n",
    "\n",
    "To solve this problem we can use the fill.na() method that fills up the missing value with the previous non-missing ones. This is perfect in our case because the missing values and the first non-missing one above are from the same session (same user id and a time difference below 60 minutes).\n",
    "\n",
    "The last thing is to calculate the sessions' lengths in order to answer the next question. To do so, I am creating a column 'sessionlength', this column is ignoring the 'totaldeltaminutes' from the first event of each session."
   ]
  },
  {
   "cell_type": "code",
   "execution_count": 15,
   "metadata": {
    "collapsed": true
   },
   "outputs": [],
   "source": [
    "#fill the missing values with the previous non missing one\n",
    "learner_sorted['sessions'].fillna(method = 'ffill', inplace = True)"
   ]
  },
  {
   "cell_type": "code",
   "execution_count": 16,
   "metadata": {
    "collapsed": true
   },
   "outputs": [],
   "source": [
    "#create a column'sessionlength' that will allow us to sum the length of a session\n",
    "learner_sorted = learner_sorted.assign(sessionlength = (learner_sorted['totaldeltaminutes']).where(learner_sorted['sessions'] - learner_sorted['sessions'].shift() == 0, 0))"
   ]
  },
  {
   "cell_type": "markdown",
   "metadata": {},
   "source": [
    "Now that we have all the columns needed we can filter them and grab the ones requested in the PDF: user id, the sessions, and the time in the '%H:%M' format."
   ]
  },
  {
   "cell_type": "code",
   "execution_count": 17,
   "metadata": {},
   "outputs": [
    {
     "data": {
      "text/html": [
       "<div>\n",
       "<style>\n",
       "    .dataframe thead tr:only-child th {\n",
       "        text-align: right;\n",
       "    }\n",
       "\n",
       "    .dataframe thead th {\n",
       "        text-align: left;\n",
       "    }\n",
       "\n",
       "    .dataframe tbody tr th {\n",
       "        vertical-align: top;\n",
       "    }\n",
       "</style>\n",
       "<table border=\"1\" class=\"dataframe\">\n",
       "  <thead>\n",
       "    <tr style=\"text-align: right;\">\n",
       "      <th></th>\n",
       "      <th></th>\n",
       "      <th>time</th>\n",
       "    </tr>\n",
       "    <tr>\n",
       "      <th>sessions</th>\n",
       "      <th>uuid</th>\n",
       "      <th></th>\n",
       "    </tr>\n",
       "  </thead>\n",
       "  <tbody>\n",
       "    <tr>\n",
       "      <th rowspan=\"4\" valign=\"top\">1.0</th>\n",
       "      <th>2990</th>\n",
       "      <td>11:27</td>\n",
       "    </tr>\n",
       "    <tr>\n",
       "      <th>2990</th>\n",
       "      <td>11:27</td>\n",
       "    </tr>\n",
       "    <tr>\n",
       "      <th>2990</th>\n",
       "      <td>11:27</td>\n",
       "    </tr>\n",
       "    <tr>\n",
       "      <th>2990</th>\n",
       "      <td>11:27</td>\n",
       "    </tr>\n",
       "    <tr>\n",
       "      <th>2.0</th>\n",
       "      <th>2990</th>\n",
       "      <td>09:40</td>\n",
       "    </tr>\n",
       "  </tbody>\n",
       "</table>\n",
       "</div>"
      ],
      "text/plain": [
       "                time\n",
       "sessions uuid       \n",
       "1.0      2990  11:27\n",
       "         2990  11:27\n",
       "         2990  11:27\n",
       "         2990  11:27\n",
       "2.0      2990  09:40"
      ]
     },
     "execution_count": 17,
     "metadata": {},
     "output_type": "execute_result"
    }
   ],
   "source": [
    "#select needed columns and set index for grouping by sessions and user id\n",
    "final_df = learner_sorted[['uuid','time','sessions']].set_index(['sessions','uuid'])\n",
    "final_df.head()"
   ]
  },
  {
   "cell_type": "markdown",
   "metadata": {},
   "source": [
    "<h2>Analysis 2</h2>"
   ]
  },
  {
   "cell_type": "markdown",
   "metadata": {},
   "source": [
    "**1 - What is the distribution of session lengths?**"
   ]
  },
  {
   "cell_type": "markdown",
   "metadata": {},
   "source": [
    "We know that the maximum length of a session is 481.43 minutes which is about 8 hours, but on a global scale how are the lengths distributed? \n",
    "\n",
    "I am first grabbing the variables needed, then group them by user id and sessions, to sum up the minutes spent on each event."
   ]
  },
  {
   "cell_type": "code",
   "execution_count": 18,
   "metadata": {},
   "outputs": [
    {
     "data": {
      "text/plain": [
       "481.43333333333362"
      ]
     },
     "execution_count": 18,
     "metadata": {},
     "output_type": "execute_result"
    }
   ],
   "source": [
    "distlengths = learner_sorted[['uuid','sessions','sessionlength']]\n",
    "distlengths = distlengths.groupby(['uuid','sessions']).sum()\n",
    "distlengths['sessionlength'].max()"
   ]
  },
  {
   "cell_type": "code",
   "execution_count": 19,
   "metadata": {},
   "outputs": [
    {
     "data": {
      "image/png": "[encoded data removed]",
      "text/plain": [
       "<matplotlib.figure.Figure at 0x12926d390>"
      ]
     },
     "metadata": {},
     "output_type": "display_data"
    }
   ],
   "source": [
    "plt.figure(figsize = (16,8))\n",
    "sns.distplot(distlengths['sessionlength'],kde=False ).set_title('Distribution of the duration of the sessions');"
   ]
  },
  {
   "cell_type": "markdown",
   "metadata": {},
   "source": [
    "The graph below is a closer look by limiting the axis to 50 minutes. As we can see most of the data has a session length up to 10 minutes, the second bin represents the length between 10 and 20 minutes which represents about 4000 sessions."
   ]
  },
  {
   "cell_type": "code",
   "execution_count": 20,
   "metadata": {
    "scrolled": true
   },
   "outputs": [
    {
     "data": {
      "image/png": "[encoded data removed]",
      "text/plain": [
       "<matplotlib.figure.Figure at 0x10b622278>"
      ]
     },
     "metadata": {},
     "output_type": "display_data"
    }
   ],
   "source": [
    "g = sns.distplot(distlengths['sessionlength'],kde=False)\n",
    "g.set(xlim = (0,51))\n",
    "g.set_title('Distribution of the duration of the sessions under 50 minutes');"
   ]
  },
  {
   "cell_type": "markdown",
   "metadata": {},
   "source": [
    "**Having a better picture of the session's duration distribution let's check the distribution of the sessions. For example, how many times the session number 3 appears?**"
   ]
  },
  {
   "cell_type": "markdown",
   "metadata": {},
   "source": [
    "To answer this question we need to grab the column 'sessions' from the previous data frame and then can use Seaborn's distplot function to plot its distribution.\n",
    "\n",
    "Because the data frame has a row by user id, session, date and time we can decide to drop the duplicate rows in order to only keep the session number by user."
   ]
  },
  {
   "cell_type": "code",
   "execution_count": 21,
   "metadata": {
    "collapsed": true
   },
   "outputs": [],
   "source": [
    "distsessions = learner_sorted[['uuid','sessions']]\n",
    "distsessions = distsessions.drop_duplicates()"
   ]
  },
  {
   "cell_type": "code",
   "execution_count": 22,
   "metadata": {},
   "outputs": [
    {
     "data": {
      "text/html": [
       "<div>\n",
       "<style>\n",
       "    .dataframe thead tr:only-child th {\n",
       "        text-align: right;\n",
       "    }\n",
       "\n",
       "    .dataframe thead th {\n",
       "        text-align: left;\n",
       "    }\n",
       "\n",
       "    .dataframe tbody tr th {\n",
       "        vertical-align: top;\n",
       "    }\n",
       "</style>\n",
       "<table border=\"1\" class=\"dataframe\">\n",
       "  <thead>\n",
       "    <tr style=\"text-align: right;\">\n",
       "      <th></th>\n",
       "      <th>uuid</th>\n",
       "      <th>sessions</th>\n",
       "    </tr>\n",
       "  </thead>\n",
       "  <tbody>\n",
       "    <tr>\n",
       "      <th>689933</th>\n",
       "      <td>2990</td>\n",
       "      <td>1.0</td>\n",
       "    </tr>\n",
       "    <tr>\n",
       "      <th>689544</th>\n",
       "      <td>2990</td>\n",
       "      <td>2.0</td>\n",
       "    </tr>\n",
       "    <tr>\n",
       "      <th>690562</th>\n",
       "      <td>2990</td>\n",
       "      <td>3.0</td>\n",
       "    </tr>\n",
       "    <tr>\n",
       "      <th>689543</th>\n",
       "      <td>2990</td>\n",
       "      <td>4.0</td>\n",
       "    </tr>\n",
       "    <tr>\n",
       "      <th>689723</th>\n",
       "      <td>2990</td>\n",
       "      <td>5.0</td>\n",
       "    </tr>\n",
       "  </tbody>\n",
       "</table>\n",
       "</div>"
      ],
      "text/plain": [
       "        uuid  sessions\n",
       "689933  2990       1.0\n",
       "689544  2990       2.0\n",
       "690562  2990       3.0\n",
       "689543  2990       4.0\n",
       "689723  2990       5.0"
      ]
     },
     "execution_count": 22,
     "metadata": {},
     "output_type": "execute_result"
    }
   ],
   "source": [
    "distsessions.head()"
   ]
  },
  {
   "cell_type": "markdown",
   "metadata": {},
   "source": [
    "As we can see from the first plot, the data is also right-skewed, the most common number of session per user is 1 and the number of users decreases gradually with the number of sessions increasing.\n",
    "\n",
    "With the graph below I am having a closer look, filtering the number of sessions that are less than 40 (where most of the data is concentrated)."
   ]
  },
  {
   "cell_type": "code",
   "execution_count": 23,
   "metadata": {
    "scrolled": true
   },
   "outputs": [
    {
     "data": {
      "image/png": "[encoded data removed]",
      "text/plain": [
       "<matplotlib.figure.Figure at 0x10dd1deb8>"
      ]
     },
     "metadata": {},
     "output_type": "display_data"
    }
   ],
   "source": [
    "plt.figure(figsize = (16,8))\n",
    "g= sns.distplot(distsessions['sessions'], norm_hist = False, kde = False, bins ='auto')\n",
    "g.set_title('Distribution of the sessions');"
   ]
  },
  {
   "cell_type": "code",
   "execution_count": 24,
   "metadata": {},
   "outputs": [
    {
     "data": {
      "image/png": "[encoded data removed]",
      "text/plain": [
       "<matplotlib.figure.Figure at 0x125a3c5c0>"
      ]
     },
     "metadata": {},
     "output_type": "display_data"
    }
   ],
   "source": [
    "g = sns.distplot(distsessions['sessions'], norm_hist = False, kde = False, bins ='auto')\n",
    "g.set(xlim = (0,40))\n",
    "g.set_title('Distribution of the sessions (x<41)');"
   ]
  },
  {
   "cell_type": "markdown",
   "metadata": {},
   "source": [
    "**2 - How many people do several sessions a day?**"
   ]
  },
  {
   "cell_type": "markdown",
   "metadata": {},
   "source": [
    "Let's now create another sample of the learner_sorted dataset by grabbing the columns we need and group the rows by id and date by calculating the sum of unique session's number.\n",
    "\n",
    "For example, because the user id 2990 had 3 different sessions on the 01 of January 2017, by applying what I explaining above we are ending up with the number of unique values for this session's column, meaning 3."
   ]
  },
  {
   "cell_type": "code",
   "execution_count": 25,
   "metadata": {},
   "outputs": [
    {
     "data": {
      "text/html": [
       "<div>\n",
       "<style>\n",
       "    .dataframe thead tr:only-child th {\n",
       "        text-align: right;\n",
       "    }\n",
       "\n",
       "    .dataframe thead th {\n",
       "        text-align: left;\n",
       "    }\n",
       "\n",
       "    .dataframe tbody tr th {\n",
       "        vertical-align: top;\n",
       "    }\n",
       "</style>\n",
       "<table border=\"1\" class=\"dataframe\">\n",
       "  <thead>\n",
       "    <tr style=\"text-align: right;\">\n",
       "      <th></th>\n",
       "      <th></th>\n",
       "      <th>sessions</th>\n",
       "    </tr>\n",
       "    <tr>\n",
       "      <th>uuid</th>\n",
       "      <th>date</th>\n",
       "      <th></th>\n",
       "    </tr>\n",
       "  </thead>\n",
       "  <tbody>\n",
       "    <tr>\n",
       "      <th rowspan=\"5\" valign=\"top\">2990</th>\n",
       "      <th>2016-12-25</th>\n",
       "      <td>1</td>\n",
       "    </tr>\n",
       "    <tr>\n",
       "      <th>2016-12-28</th>\n",
       "      <td>1</td>\n",
       "    </tr>\n",
       "    <tr>\n",
       "      <th>2016-12-31</th>\n",
       "      <td>1</td>\n",
       "    </tr>\n",
       "    <tr>\n",
       "      <th>2017-01-01</th>\n",
       "      <td>3</td>\n",
       "    </tr>\n",
       "    <tr>\n",
       "      <th>2017-01-02</th>\n",
       "      <td>1</td>\n",
       "    </tr>\n",
       "  </tbody>\n",
       "</table>\n",
       "</div>"
      ],
      "text/plain": [
       "                 sessions\n",
       "uuid date                \n",
       "2990 2016-12-25         1\n",
       "     2016-12-28         1\n",
       "     2016-12-31         1\n",
       "     2017-01-01         3\n",
       "     2017-01-02         1"
      ]
     },
     "execution_count": 25,
     "metadata": {},
     "output_type": "execute_result"
    }
   ],
   "source": [
    "#grab the columns we need\n",
    "sessionsday = learner_sorted[['uuid','date','sessions']]\n",
    "\n",
    "#group by 'uuid', 'date' and calculate the sum of unique session's number \n",
    "sessionsday = pd.DataFrame(sessionsday.groupby(['uuid', 'date'])['sessions'].nunique())\n",
    "\n",
    "#display the head of the dataframe\n",
    "sessionsday.head()"
   ]
  },
  {
   "cell_type": "markdown",
   "metadata": {},
   "source": [
    "At this stage what's left is to ignore the days where the user had only one session, and drop the rows where missing values are returned because those rows are not meeting the condition: 'sessionsday[sessionsday > 1]'"
   ]
  },
  {
   "cell_type": "code",
   "execution_count": 26,
   "metadata": {},
   "outputs": [
    {
     "data": {
      "text/html": [
       "<div>\n",
       "<style>\n",
       "    .dataframe thead tr:only-child th {\n",
       "        text-align: right;\n",
       "    }\n",
       "\n",
       "    .dataframe thead th {\n",
       "        text-align: left;\n",
       "    }\n",
       "\n",
       "    .dataframe tbody tr th {\n",
       "        vertical-align: top;\n",
       "    }\n",
       "</style>\n",
       "<table border=\"1\" class=\"dataframe\">\n",
       "  <thead>\n",
       "    <tr style=\"text-align: right;\">\n",
       "      <th></th>\n",
       "      <th></th>\n",
       "      <th>sessions</th>\n",
       "    </tr>\n",
       "    <tr>\n",
       "      <th>uuid</th>\n",
       "      <th>date</th>\n",
       "      <th></th>\n",
       "    </tr>\n",
       "  </thead>\n",
       "  <tbody>\n",
       "    <tr>\n",
       "      <th rowspan=\"2\" valign=\"top\">2990</th>\n",
       "      <th>2017-01-01</th>\n",
       "      <td>3.0</td>\n",
       "    </tr>\n",
       "    <tr>\n",
       "      <th>2017-02-01</th>\n",
       "      <td>2.0</td>\n",
       "    </tr>\n",
       "    <tr>\n",
       "      <th>12409</th>\n",
       "      <th>2017-01-13</th>\n",
       "      <td>2.0</td>\n",
       "    </tr>\n",
       "    <tr>\n",
       "      <th>39446</th>\n",
       "      <th>2017-01-08</th>\n",
       "      <td>2.0</td>\n",
       "    </tr>\n",
       "    <tr>\n",
       "      <th>49901</th>\n",
       "      <th>2017-01-14</th>\n",
       "      <td>2.0</td>\n",
       "    </tr>\n",
       "  </tbody>\n",
       "</table>\n",
       "</div>"
      ],
      "text/plain": [
       "                  sessions\n",
       "uuid  date                \n",
       "2990  2017-01-01       3.0\n",
       "      2017-02-01       2.0\n",
       "12409 2017-01-13       2.0\n",
       "39446 2017-01-08       2.0\n",
       "49901 2017-01-14       2.0"
      ]
     },
     "execution_count": 26,
     "metadata": {},
     "output_type": "execute_result"
    }
   ],
   "source": [
    "#set the filter condition\n",
    "sessionsday = sessionsday[sessionsday > 1]\n",
    "\n",
    "#drop the missing values\n",
    "sessionsday.dropna(inplace = True)\n",
    "\n",
    "sessionsday.head()"
   ]
  },
  {
   "cell_type": "markdown",
   "metadata": {},
   "source": [
    "Comparing the two tables above we can clearly see that the sessions equaling 1 have been removed. To finish, we just need to count the number of unique user id from this latest table."
   ]
  },
  {
   "cell_type": "code",
   "execution_count": 27,
   "metadata": {},
   "outputs": [
    {
     "data": {
      "text/plain": [
       "863"
      ]
     },
     "execution_count": 27,
     "metadata": {},
     "output_type": "execute_result"
    }
   ],
   "source": [
    "#reset index to be able to do some calculation on \"uuid'\n",
    "sessionsday = sessionsday.reset_index()\n",
    "\n",
    "#calculate the count of unique user ids\n",
    "sessionsday['uuid'].nunique()"
   ]
  },
  {
   "cell_type": "code",
   "execution_count": 28,
   "metadata": {},
   "outputs": [
    {
     "data": {
      "text/plain": [
       "6492"
      ]
     },
     "execution_count": 28,
     "metadata": {},
     "output_type": "execute_result"
    }
   ],
   "source": [
    "#calculate the difference \n",
    "learner_sorted['uuid'].nunique() - sessionsday['uuid'].nunique()"
   ]
  },
  {
   "cell_type": "markdown",
   "metadata": {},
   "source": [
    "**863** people do several sessions a day, the other 6492 have done only one session per day."
   ]
  },
  {
   "cell_type": "markdown",
   "metadata": {},
   "source": [
    "**2 - How many sessions?**"
   ]
  },
  {
   "cell_type": "markdown",
   "metadata": {},
   "source": [
    "My logic here is to first calculate the average sessions per day and per user. From this, I decided to group the mean with the sum of users. For example, we have 754 people who have done in average 2 sessions a day and only 2 have done 4 sessions a day."
   ]
  },
  {
   "cell_type": "code",
   "execution_count": 29,
   "metadata": {},
   "outputs": [
    {
     "data": {
      "text/html": [
       "<div>\n",
       "<style>\n",
       "    .dataframe thead tr:only-child th {\n",
       "        text-align: right;\n",
       "    }\n",
       "\n",
       "    .dataframe thead th {\n",
       "        text-align: left;\n",
       "    }\n",
       "\n",
       "    .dataframe tbody tr th {\n",
       "        vertical-align: top;\n",
       "    }\n",
       "</style>\n",
       "<table border=\"1\" class=\"dataframe\">\n",
       "  <thead>\n",
       "    <tr style=\"text-align: right;\">\n",
       "      <th></th>\n",
       "      <th>sessions</th>\n",
       "      <th>uuid</th>\n",
       "    </tr>\n",
       "  </thead>\n",
       "  <tbody>\n",
       "    <tr>\n",
       "      <th>0</th>\n",
       "      <td>2.000000</td>\n",
       "      <td>754</td>\n",
       "    </tr>\n",
       "    <tr>\n",
       "      <th>1</th>\n",
       "      <td>2.076923</td>\n",
       "      <td>1</td>\n",
       "    </tr>\n",
       "    <tr>\n",
       "      <th>2</th>\n",
       "      <td>2.166667</td>\n",
       "      <td>4</td>\n",
       "    </tr>\n",
       "    <tr>\n",
       "      <th>3</th>\n",
       "      <td>2.181818</td>\n",
       "      <td>1</td>\n",
       "    </tr>\n",
       "    <tr>\n",
       "      <th>4</th>\n",
       "      <td>2.200000</td>\n",
       "      <td>3</td>\n",
       "    </tr>\n",
       "    <tr>\n",
       "      <th>5</th>\n",
       "      <td>2.222222</td>\n",
       "      <td>1</td>\n",
       "    </tr>\n",
       "    <tr>\n",
       "      <th>6</th>\n",
       "      <td>2.250000</td>\n",
       "      <td>9</td>\n",
       "    </tr>\n",
       "    <tr>\n",
       "      <th>7</th>\n",
       "      <td>2.285714</td>\n",
       "      <td>2</td>\n",
       "    </tr>\n",
       "    <tr>\n",
       "      <th>8</th>\n",
       "      <td>2.333333</td>\n",
       "      <td>14</td>\n",
       "    </tr>\n",
       "    <tr>\n",
       "      <th>9</th>\n",
       "      <td>2.400000</td>\n",
       "      <td>3</td>\n",
       "    </tr>\n",
       "    <tr>\n",
       "      <th>10</th>\n",
       "      <td>2.428571</td>\n",
       "      <td>1</td>\n",
       "    </tr>\n",
       "    <tr>\n",
       "      <th>11</th>\n",
       "      <td>2.500000</td>\n",
       "      <td>24</td>\n",
       "    </tr>\n",
       "    <tr>\n",
       "      <th>12</th>\n",
       "      <td>2.583333</td>\n",
       "      <td>1</td>\n",
       "    </tr>\n",
       "    <tr>\n",
       "      <th>13</th>\n",
       "      <td>2.600000</td>\n",
       "      <td>2</td>\n",
       "    </tr>\n",
       "    <tr>\n",
       "      <th>14</th>\n",
       "      <td>2.666667</td>\n",
       "      <td>5</td>\n",
       "    </tr>\n",
       "    <tr>\n",
       "      <th>15</th>\n",
       "      <td>2.750000</td>\n",
       "      <td>3</td>\n",
       "    </tr>\n",
       "    <tr>\n",
       "      <th>16</th>\n",
       "      <td>3.000000</td>\n",
       "      <td>32</td>\n",
       "    </tr>\n",
       "    <tr>\n",
       "      <th>17</th>\n",
       "      <td>3.894737</td>\n",
       "      <td>1</td>\n",
       "    </tr>\n",
       "    <tr>\n",
       "      <th>18</th>\n",
       "      <td>4.000000</td>\n",
       "      <td>2</td>\n",
       "    </tr>\n",
       "  </tbody>\n",
       "</table>\n",
       "</div>"
      ],
      "text/plain": [
       "    sessions  uuid\n",
       "0   2.000000   754\n",
       "1   2.076923     1\n",
       "2   2.166667     4\n",
       "3   2.181818     1\n",
       "4   2.200000     3\n",
       "5   2.222222     1\n",
       "6   2.250000     9\n",
       "7   2.285714     2\n",
       "8   2.333333    14\n",
       "9   2.400000     3\n",
       "10  2.428571     1\n",
       "11  2.500000    24\n",
       "12  2.583333     1\n",
       "13  2.600000     2\n",
       "14  2.666667     5\n",
       "15  2.750000     3\n",
       "16  3.000000    32\n",
       "17  3.894737     1\n",
       "18  4.000000     2"
      ]
     },
     "execution_count": 29,
     "metadata": {},
     "output_type": "execute_result"
    }
   ],
   "source": [
    "#save a new dataframe with the average sessions by user\n",
    "sessionsmany = pd.DataFrame(sessionsday[['uuid','sessions']].groupby('uuid')['sessions'].mean()).reset_index()\n",
    "\n",
    "#by session sum up the number of users\n",
    "sessionsmany = pd.DataFrame(sessionsmany.groupby('sessions')['uuid'].count()).reset_index()\n",
    "\n",
    "sessionsmany"
   ]
  },
  {
   "cell_type": "markdown",
   "metadata": {},
   "source": [
    "Let's plot this, but to facilitate the reading of it I decided to bin the sessions."
   ]
  },
  {
   "cell_type": "code",
   "execution_count": 30,
   "metadata": {
    "collapsed": true
   },
   "outputs": [],
   "source": [
    "#create the bins\n",
    "bins = [1,2.5,3,3.5,4]\n",
    "\n",
    "#create a new column 'sessionbinned' with the corresponding bin for each row\n",
    "sessionsmany['sessionbinned'] = pd.cut(sessionsmany['sessions'], bins)\n",
    "\n",
    "#group by bins\n",
    "sessionsmany = sessionsmany.groupby('sessionbinned').sum().reset_index()"
   ]
  },
  {
   "cell_type": "code",
   "execution_count": 31,
   "metadata": {},
   "outputs": [
    {
     "data": {
      "image/png": "[encoded data removed]",
      "text/plain": [
       "<matplotlib.figure.Figure at 0x11d43b7b8>"
      ]
     },
     "metadata": {},
     "output_type": "display_data"
    }
   ],
   "source": [
    "plt.figure(figsize = (16,8))\n",
    "g = sns.barplot(x ='sessionbinned', y = 'uuid', data = sessionsmany)\n",
    "g.set_title('The number of sessions taken by people')\n",
    "g.set(ylabel = 'Number of people', xlabel = 'Range of sessions');"
   ]
  },
  {
   "cell_type": "markdown",
   "metadata": {},
   "source": [
    "From the users doing more than one session per day most of them do between 2 and 2.5 sessions per day. "
   ]
  },
  {
   "cell_type": "markdown",
   "metadata": {
    "collapsed": true
   },
   "source": [
    "\n",
    "Thank you for reading.**\n",
    "\n",
    "*Bamby Gassama*"
   ]
  },
  {
   "cell_type": "code",
   "execution_count": null,
   "metadata": {
    "collapsed": true
   },
   "outputs": [],
   "source": []
  }
 ],
 "metadata": {
  "kernelspec": {
   "display_name": "Python 3",
   "language": "python",
   "name": "python3"
  },
  "language_info": {
   "codemirror_mode": {
    "name": "ipython",
    "version": 3
   },
   "file_extension": ".py",
   "mimetype": "text/x-python",
   "name": "python",
   "nbconvert_exporter": "python",
   "pygments_lexer": "ipython3",
   "version": "3.6.2"
  }
 },
 "nbformat": 4,
 "nbformat_minor": 2
}
